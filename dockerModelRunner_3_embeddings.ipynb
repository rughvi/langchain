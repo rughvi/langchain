{
 "cells": [
  {
   "cell_type": "code",
   "execution_count": null,
   "id": "d7a6da17-4d25-4eba-a02c-c17c2e8c904a",
   "metadata": {},
   "outputs": [],
   "source": [
    "from langchain_openai import OpenAIEmbeddings\n",
    "from langchain_core.vectorstores import InMemoryVectorStore\n",
    "from openai import OpenAI\n",
    "\n",
    "embeddings = OpenAIEmbeddings(\n",
    "    model=\"ai/embeddinggemma\",\n",
    "    base_url=\"http://127.0.0.1:12434/engines/v1\",\n",
    "    api_key=\"ignored\"\n",
    ")\n",
    "\n",
    "vectorstore = InMemoryVectorStore(embeddings)\n",
    "\n",
    "text1 = \"LangChain is the framework for building context-aware reasoning applications.\"\n",
    "text2 = \"I am learning Langchain in Python and I am very much interested in that.\"\n",
    "text3 = \"Hey to learn I am using PyCharm IDE.\"\n",
    "vectorstore.add_texts([text1, text2, text3])\n",
    "\n",
    "retriever = vectorstore.as_retriever()\n",
    "\n",
    "retrieved_documents = retriever.invoke(\"What am I learning?\")\n",
    "\n",
    "retrieved_documents[0].page_content"
   ]
  },
  {
   "cell_type": "code",
   "execution_count": null,
   "id": "1e753d25-e5dd-4ab7-a9aa-cb9b384d36bf",
   "metadata": {},
   "outputs": [],
   "source": []
  }
 ],
 "metadata": {
  "kernelspec": {
   "display_name": "Python 3 (ipykernel)",
   "language": "python",
   "name": "python3"
  },
  "language_info": {
   "codemirror_mode": {
    "name": "ipython",
    "version": 3
   },
   "file_extension": ".py",
   "mimetype": "text/x-python",
   "name": "python",
   "nbconvert_exporter": "python",
   "pygments_lexer": "ipython3",
   "version": "3.9.23"
  }
 },
 "nbformat": 4,
 "nbformat_minor": 5
}
