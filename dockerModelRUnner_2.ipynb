{
 "cells": [
  {
   "cell_type": "code",
   "execution_count": null,
   "id": "a50ab318-05b1-4d44-8bf8-09209c8248c8",
   "metadata": {},
   "outputs": [],
   "source": [
    "from langchain_openai import ChatOpenAI\n",
    "from langchain_core.prompts import ChatPromptTemplate, MessagesPlaceholder\n",
    "from langchain_core.runnables.history import RunnableWithMessageHistory\n",
    "from langchain_core.chat_history import InMemoryChatMessageHistory\n",
    "\n",
    "llm = ChatOpenAI(\n",
    "    model=\"ai/smollm3\",\n",
    "    base_url=\"http://127.0.0.1:12434/engines/v1\",\n",
    "    api_key=\"ignored\"\n",
    ")\n",
    "\n",
    "prompt = ChatPromptTemplate.from_messages([\n",
    "    (\"system\", \"You are a helpful assistant! Your name is Bob.\"),\n",
    "    MessagesPlaceholder(\"history\"),\n",
    "    (\"human\", \"{input}\")\n",
    "])\n",
    "\n",
    "\n",
    "chain = prompt | llm\n",
    "store = {}\n",
    "sessionId = 'abc123'\n",
    "\n",
    "def get_session_history(session_id: str) -> InMemoryChatMessageHistory:\n",
    "    if session_id not in store:\n",
    "        store[session_id] = InMemoryChatMessageHistory()\n",
    "    return store[session_id]\n",
    "    \n",
    "runnable_message_history = RunnableWithMessageHistory(\n",
    "    chain,\n",
    "    get_session_history,\n",
    "    input_messages_key=\"input\",\n",
    "    history_messages_key=\"history\"    \n",
    ")\n",
    "\n",
    "while True:\n",
    "    user_input = input(\"Enter your message (type 'exit' to end): \")\n",
    "    if user_input.lower() == \"exit\":\n",
    "        break\n",
    "    output = runnable_message_history.invoke(\n",
    "        { \n",
    "            # \"history\": [(\"human\", \"what is the value of 5 * 5?\"), (\"ai\", \"The value of 5 * 5 is 25.\")], \n",
    "            \"input\": user_input\n",
    "        },\n",
    "        config={\"configurable\": {\"session_id\": sessionId}});\n",
    "    print(output.content)\n"
   ]
  },
  {
   "cell_type": "code",
   "execution_count": null,
   "id": "eede9ad4-7f84-41f6-8485-2e3c9651731d",
   "metadata": {},
   "outputs": [],
   "source": []
  }
 ],
 "metadata": {
  "kernelspec": {
   "display_name": "Python 3 (ipykernel)",
   "language": "python",
   "name": "python3"
  },
  "language_info": {
   "codemirror_mode": {
    "name": "ipython",
    "version": 3
   },
   "file_extension": ".py",
   "mimetype": "text/x-python",
   "name": "python",
   "nbconvert_exporter": "python",
   "pygments_lexer": "ipython3",
   "version": "3.9.23"
  }
 },
 "nbformat": 4,
 "nbformat_minor": 5
}
