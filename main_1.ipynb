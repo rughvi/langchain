{
 "cells": [
  {
   "cell_type": "code",
   "execution_count": null,
   "id": "19d9549e-8cc4-4e47-a94f-c42c5579b757",
   "metadata": {},
   "outputs": [],
   "source": [
    "from langchain_ollama import ChatOllama\n",
    "from langchain_core.prompts import ChatPromptTemplate\n",
    "\n",
    "llm = ChatOllama(model=\"gpt-oss:20b\", validate_model_on_init=True)\n",
    "\n",
    "template = ChatPromptTemplate(\n",
    "    [\n",
    "        (\"system\", \"You are a helpful AI bot. Your name is Carl.\"),\n",
    "        (\"human\", \"{content}\"),\n",
    "    ]\n",
    ")\n",
    "\n",
    "chain = template | llm\n",
    "response = chain.invoke({\"content\": \"Who is Elon Musk?\"})\n",
    "print(response.content)"
   ]
  },
  {
   "cell_type": "code",
   "execution_count": null,
   "id": "70314341-f367-4e25-9346-95dde005d715",
   "metadata": {},
   "outputs": [],
   "source": []
  }
 ],
 "metadata": {
  "kernelspec": {
   "display_name": "Python 3 (ipykernel)",
   "language": "python",
   "name": "python3"
  },
  "language_info": {
   "codemirror_mode": {
    "name": "ipython",
    "version": 3
   },
   "file_extension": ".py",
   "mimetype": "text/x-python",
   "name": "python",
   "nbconvert_exporter": "python",
   "pygments_lexer": "ipython3",
   "version": "3.9.23"
  }
 },
 "nbformat": 4,
 "nbformat_minor": 5
}
