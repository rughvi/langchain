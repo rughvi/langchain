{
 "cells": [
  {
   "cell_type": "code",
   "execution_count": null,
   "id": "c82e270c-7614-4e59-9b1c-7a7ac9834c17",
   "metadata": {},
   "outputs": [],
   "source": [
    "from langchain_openai import OpenAIEmbeddings\n",
    "from langchain_core.vectorstores import InMemoryVectorStore\n",
    "from langchain.text_splitter import RecursiveCharacterTextSplitter, TokenTextSplitter\n",
    "embeddings = OpenAIEmbeddings(\n",
    "    # model=\"ai/embeddinggemma\", // This model is not returning results properly.\n",
    "    # model=\"ai/mxbai-embed-large\", // This model is throwing 400 badrequest error. And having issue in the docker.\n",
    "    model=\"ai/granite-embedding-multilingual\",\n",
    "    base_url=\"http://127.0.0.1:12434/engines/v1\",\n",
    "    api_key=\"ignored\"\n",
    ")\n",
    "\n",
    "vectorstore = InMemoryVectorStore(embeddings)\n",
    "\n",
    "text = (\"Once, there was a hare who was best friends with a tortoise.\"\n",
    "    \"The hare was very proud of how fast he could run, so one day, he challenged the tortoise to a race.\"\n",
    "    \"The tortoise agreed, even though everyone thought he was way too slow to win. The race began, and the \"\n",
    "    \"hare raced so fast that he was far ahead of the tortoise. Feeling confident, the hare decided to take a \"\n",
    "    \"nap under a tree while the tortoise kept going, step by step. When the hare woke up, he was shocked to see \"\n",
    "    \"the tortoise crossing the finish line. The tortoise had won the race!\")\n",
    "\n",
    "text_split=TokenTextSplitter(chunk_size=20, chunk_overlap=0)\n",
    "splitted_text=text_split.split_text(text)\n",
    "print(splitted_text)\n",
    "vectorstore.add_texts(splitted_text)\n",
    "\n",
    "\n",
    "# results = vectorstore.similarity_search(query=\"Who won the race?\", k=3)\n",
    "# results = vectorstore.search(query=\"Who won the race\", search_type=\"mmr\", k=1)\n",
    "results = vectorstore.similarity_search_with_score(query=\"Who won the race?\", k=1)\n",
    "print(results)\n",
    "results = vectorstore.similarity_search_with_score(query=\"Who took a nap?\", k=1)\n",
    "print(results)\n",
    "results = vectorstore.similarity_search_with_score(query=\"Who are friends?\", k=1)\n",
    "print(results)\n",
    "results = vectorstore.similarity_search_with_score(query=\"What is the challenge?\", k=1)\n",
    "print(results)"
   ]
  },
  {
   "cell_type": "code",
   "execution_count": null,
   "id": "53f5f38a-a512-4e6d-b046-aeef880790b6",
   "metadata": {},
   "outputs": [],
   "source": [
    "\n"
   ]
  }
 ],
 "metadata": {
  "kernelspec": {
   "display_name": "Python 3 (ipykernel)",
   "language": "python",
   "name": "python3"
  },
  "language_info": {
   "codemirror_mode": {
    "name": "ipython",
    "version": 3
   },
   "file_extension": ".py",
   "mimetype": "text/x-python",
   "name": "python",
   "nbconvert_exporter": "python",
   "pygments_lexer": "ipython3",
   "version": "3.9.23"
  }
 },
 "nbformat": 4,
 "nbformat_minor": 5
}
